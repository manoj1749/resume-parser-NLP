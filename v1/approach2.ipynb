{
 "cells": [
  {
   "cell_type": "code",
   "execution_count": 1,
   "metadata": {},
   "outputs": [],
   "source": [
    "from pyresparser import ResumeParser"
   ]
  },
  {
   "cell_type": "code",
   "execution_count": 3,
   "metadata": {},
   "outputs": [
    {
     "name": "stderr",
     "output_type": "stream",
     "text": [
      "/Users/manoj/Documents/Github/resume-parser-NLP/venv/lib/python3.8/site-packages/spacy/util.py:275: UserWarning: [W031] Model 'en_training' (0.0.0) requires spaCy v2.1 and is incompatible with the current spaCy version (2.3.5). This may lead to unexpected results or runtime errors. To resolve this, download a newer compatible model or retrain your custom model with the current spaCy version. For more details and available updates, run: python -m spacy validate\n",
      "  warnings.warn(warn_msg)\n"
     ]
    }
   ],
   "source": [
    "data = ResumeParser('../test-resume/Siddharth_Reddy_Resume.pdf').get_extracted_data()"
   ]
  },
  {
   "cell_type": "code",
   "execution_count": 4,
   "metadata": {},
   "outputs": [
    {
     "name": "stdout",
     "output_type": "stream",
     "text": [
      "{'name': 'Anthireddy Siddharth', 'email': 'siddharthreddy2812@gmail.com', 'mobile_number': '9162812871', 'skills': ['Os', 'Hardware', 'Updates', 'Sql', 'Presentation', 'Ux', 'Css', 'Android', 'Javascript', 'Electrical', 'Workflow', 'Mobile', 'Architecture', 'Js', 'Api', 'Communication', 'Interactive', 'Visual', 'Postgresql', 'Wifi', 'Linux', 'Fitness', 'Training', 'Ai', 'Website', 'C', 'Presentations', 'Schedule', 'Analysis', 'Python', 'Ui', 'Django', 'Html', 'System', 'Audio', 'Engineering', 'Flask', 'Magic', 'Rest', 'Aws', 'Apis', 'Improvement', 'Analyze', 'Email', 'Xgboost', 'Selenium'], 'college_name': None, 'degree': ['B.Tech in Electrical and Computer Engineering'], 'designation': None, 'experience': ['web scraping using Selenium, while creating Python bots for email scraping and Discord', 'integration.', '• Collaborated in team-based hackathons, focusing on enhancing teamwork, communication, and'], 'company_names': None, 'no_of_pages': 2, 'total_experience': 0.0}\n"
     ]
    }
   ],
   "source": [
    "print(data)"
   ]
  },
  {
   "cell_type": "code",
   "execution_count": 7,
   "metadata": {},
   "outputs": [
    {
     "name": "stdout",
     "output_type": "stream",
     "text": [
      "\n",
      "📄 Processing: Achyuth_Resume.docx\n"
     ]
    },
    {
     "name": "stderr",
     "output_type": "stream",
     "text": [
      "/Users/manoj/Documents/Github/resume-parser-NLP/venv/lib/python3.8/site-packages/spacy/util.py:275: UserWarning: [W031] Model 'en_training' (0.0.0) requires spaCy v2.1 and is incompatible with the current spaCy version (2.3.5). This may lead to unexpected results or runtime errors. To resolve this, download a newer compatible model or retrain your custom model with the current spaCy version. For more details and available updates, run: python -m spacy validate\n",
      "  warnings.warn(warn_msg)\n"
     ]
    },
    {
     "name": "stdout",
     "output_type": "stream",
     "text": [
      "\n",
      "Parsed Information:\n",
      "{'name': 'Achyuth Rao P', 'email': 'rsda.sada-8@gmail.com', 'mobile_number': '456-1232', 'skills': ['Vmware', 'Oracle', 'Compliance', 'Tfs', 'Hardware', 'Cloud', 'P', 'Operations', 'Updates', 'Security', 'Design', 'Migration', 'Os', 'Agile', 'Metrics', 'Database', 'Yaml', 'Etl', 'Unix', 'Installation', 'Scheduling', 'Dns', 'Api', 'Communication', 'Apex', 'Linux', 'Dhcp', 'Jira', 'Java', 'Content', 'Technical skills', 'Hive', 'Spark', 'Ansible', 'Scripting', 'C', 'C++', 'Windows', 'Openstack', 'Policies', 'Docker', 'Db2', 'Redhat', 'Automation', 'Ubuntu', 'Distribution', 'Technical', 'Publishing', 'Perl', 'Php', 'Fabric', 'Analysis', 'Solaris', 'Python', 'Shell', 'Process', 'Analytics', 'Salesforce', 'System', 'Aws', 'Ruby', 'Troubleshooting', 'Nosql', 'Networking', 'Inventory', 'Email', 'Testing', 'Servers', 'Github', 'Audit', 'Administration', 'Selenium', 'Mysql'], 'college_name': None, 'degree': None, 'designation': None, 'experience': [], 'company_names': ['Oracle'], 'no_of_pages': None, 'total_experience': 0.0}\n",
      "\n",
      "📄 Processing: K Nishanth Java.docx\n",
      "\n",
      "Parsed Information:\n",
      "{'name': 'Nishanth K', 'email': 'asdasfadaf@gmail.com', 'mobile_number': '324-3454', 'skills': ['Cloud', 'Operations', 'Plan', 'Etl', 'Contracts', 'Jira', 'Html5', 'Writing', 'Logging', 'Billing', 'Scrum', 'Data analysis', 'Ibm', 'User stories', 'Research', 'Customer requirements', 'Lifecycle', 'Excel', 'Accounting', 'Rest', 'Test cases', 'Strategy', 'Jsp', 'Reports', 'Css', 'Ux', 'Mobile', 'Workflow', 'Database', 'Controls', 'Api', 'Hive', 'Ansible', 'Windows', 'Json', 'Docker', 'Db2', 'Python', 'Process', 'Sql server', 'Engineering', 'Transactions', 'Flask', 'Aws', 'Conversion', 'Administration', 'Tableau', 'Oracle', 'Sql', 'Security', 'Migration', 'Javascript', 'Agile', 'Electrical', 'Architecture', 'Governance', 'Hadoop', 'Java', 'Finance', 'C++', 'Scripting', 'Automation', 'Technical', 'Pl/sql', 'Shell', 'Software development life cycle', 'Pattern', 'Nosql', 'Analyze', 'Arrow', 'Testing', 'Servers', 'Github', 'Reporting', 'Design', 'Presentation', 'Xml', 'Js', 'Payments', 'Unix', 'Supervising', 'Web services', 'Installation', 'Scala', 'Interactive', 'Project management', 'Test plans', 'Soap', 'Spark', 'Saas', 'Php', 'Analysis', 'Django', 'Ui', 'Html', 'Analytics', 'System', 'Access', 'Programming', 'Queries', 'Apis', 'Troubleshooting', 'Sdlc', 'Requests', 'Mysql'], 'college_name': None, 'degree': None, 'designation': ['Spring Core', 'technical lead'], 'experience': None, 'company_names': ['Oracle'], 'no_of_pages': None, 'total_experience': 0}\n",
      "\n",
      "📄 Processing: Manoj Resume.pdf\n",
      "\n",
      "Parsed Information:\n",
      "{'name': 'Manoj Parasuram', 'email': 'manojparasuram.sadhanala@gmail.com', 'mobile_number': '9000830070', 'skills': ['Reporting', 'Hardware', 'Sql', 'Security', 'Mobile', '.net', 'International', 'Communication', 'Ai', 'Technical', 'Analysis', 'Python', 'Outreach', 'Research', 'System', 'Audio', 'Engineering', 'Ios', 'Pytorch', 'Electronics', 'Networking', 'Matlab', 'Github', 'Tensorflow'], 'college_name': None, 'degree': ['Electronics and Communication \\nEngineering'], 'designation': ['Hardware Security Researcher'], 'experience': ['Simulations AVR, ARM Controllers', 'January\\xa02024', 'A student-driven initiative dedicated to', 'enhancing community well-being through', 'enriching and enlightening experiences.', 'Awards', 'Global Nominee & Galactic Impact Award,', 'NASA Space Apps Challenge', 'October 2023', 'National Finalist, Kavach 2023', 'August 2023', 'Local Impact Award,', 'NASA Space Apps Challege', 'October 2022'], 'company_names': None, 'no_of_pages': 2, 'total_experience': 0.0}\n",
      "\n",
      "📄 Processing: Siddharth_Reddy_Resume.pdf\n",
      "\n",
      "Parsed Information:\n",
      "{'name': 'Anthireddy Siddharth', 'email': 'siddharthreddy2812@gmail.com', 'mobile_number': '9162812871', 'skills': ['Os', 'Hardware', 'Updates', 'Sql', 'Presentation', 'Ux', 'Css', 'Android', 'Javascript', 'Electrical', 'Workflow', 'Mobile', 'Architecture', 'Js', 'Api', 'Communication', 'Interactive', 'Visual', 'Postgresql', 'Wifi', 'Linux', 'Fitness', 'Training', 'Ai', 'Website', 'C', 'Presentations', 'Schedule', 'Analysis', 'Python', 'Ui', 'Django', 'Html', 'System', 'Audio', 'Engineering', 'Flask', 'Magic', 'Rest', 'Aws', 'Apis', 'Improvement', 'Analyze', 'Email', 'Xgboost', 'Selenium'], 'college_name': None, 'degree': ['B.Tech in Electrical and Computer Engineering'], 'designation': None, 'experience': ['web scraping using Selenium, while creating Python bots for email scraping and Discord', 'integration.', '• Collaborated in team-based hackathons, focusing on enhancing teamwork, communication, and'], 'company_names': None, 'no_of_pages': 2, 'total_experience': 0.0}\n",
      "\n",
      "📄 Processing: Sri Charan Reddy React_Node.docx\n",
      "\n",
      "Parsed Information:\n",
      "{'name': 'Sri Charan Reddy', 'email': 'sy04@gmail.com', 'mobile_number': '1234231232', 'skills': ['Oracle', 'Jsp', 'Cloud', 'Design', 'Xml', 'Operations', 'Security', 'Css', 'Sql', 'Ux', 'Javascript', 'Agile', 'Mobile', 'Js', 'Computer science', 'Architecture', 'Database', 'Yaml', 'Api', 'Communication', 'User experience', 'Postgresql', 'Health', 'Zookeeper', 'Linux', 'Jira', 'Java', 'Html5', 'Finance', 'Technical skills', 'Documentation', 'Tax', 'Babel', 'Algorithms', 'Json', 'Docker', 'Windows', 'Logging', 'Architectures', 'Technical', 'Scrum', 'Analysis', 'Python', 'Ui', 'Process', 'Html', 'Specifications', 'System', 'Access', 'Engineering', 'Lifecycle', 'Pattern', 'Threading', 'Programming', 'Rest', 'Aws', 'Queries', 'Apis', 'Routing', 'Coding', 'Email', 'Testing', 'Github', 'Selenium', 'Mysql'], 'college_name': None, 'degree': ['Bachelor of Engineering', 'Master of Science (Online)'], 'designation': ['Software Engineer'], 'experience': [], 'company_names': ['Accenture', 'Amazon'], 'no_of_pages': None, 'total_experience': 0.0}\n"
     ]
    }
   ],
   "source": [
    "import os\n",
    "def process_resumes_in_folder(folder_path: str):\n",
    "    for file_name in sorted(os.listdir(folder_path)):\n",
    "        if not file_name.lower().endswith(('.pdf', '.docx')):\n",
    "            continue\n",
    "\n",
    "        file_path = os.path.join(folder_path, file_name)\n",
    "        print(f\"\\n📄 Processing: {file_name}\")\n",
    "\n",
    "            # Parse the resume information\n",
    "        parsed_info = ResumeParser(file_path).get_extracted_data()\n",
    "        print(\"\\nParsed Information:\")\n",
    "        print(parsed_info)\n",
    "            # Print structured information\n",
    "        # print(\"\\nEducation:\")\n",
    "        # for edu in parsed_info[\"Education\"]:\n",
    "        #     print(\"-\", edu)\n",
    "\n",
    "        # print(\"\\nWork Experience:\")\n",
    "        # for work in parsed_info[\"Work Experience\"]:\n",
    "        #     print(\"-\", work)\n",
    "\n",
    "        # except Exception as e:\n",
    "        #     print(f\"⚠️ Error processing {file_name}: {e}\")\n",
    "            \n",
    "process_resumes_in_folder(\"../test-resume\")"
   ]
  },
  {
   "cell_type": "code",
   "execution_count": null,
   "metadata": {},
   "outputs": [],
   "source": []
  }
 ],
 "metadata": {
  "kernelspec": {
   "display_name": "venv",
   "language": "python",
   "name": "python3"
  },
  "language_info": {
   "codemirror_mode": {
    "name": "ipython",
    "version": 3
   },
   "file_extension": ".py",
   "mimetype": "text/x-python",
   "name": "python",
   "nbconvert_exporter": "python",
   "pygments_lexer": "ipython3",
   "version": "3.8.0"
  }
 },
 "nbformat": 4,
 "nbformat_minor": 2
}
