{
 "cells": [
  {
   "cell_type": "code",
   "execution_count": 1,
   "metadata": {},
   "outputs": [],
   "source": [
    "from pyresparser import ResumeParser"
   ]
  },
  {
   "cell_type": "code",
   "execution_count": null,
   "metadata": {},
   "outputs": [
    {
     "name": "stderr",
     "output_type": "stream",
     "text": [
      "/Users/manoj/Documents/Github/resume-parser-NLP/venv/lib/python3.8/site-packages/spacy/util.py:275: UserWarning: [W031] Model 'en_training' (0.0.0) requires spaCy v2.1 and is incompatible with the current spaCy version (2.3.5). This may lead to unexpected results or runtime errors. To resolve this, download a newer compatible model or retrain your custom model with the current spaCy version. For more details and available updates, run: python -m spacy validate\n",
      "  warnings.warn(warn_msg)\n"
     ]
    }
   ],
   "source": [
    "data = ResumeParser('../resume-parser-NLP/test-resume/Siddharth_Reddy_Resume.pdf').get_extracted_data()"
   ]
  },
  {
   "cell_type": "code",
   "execution_count": 3,
   "metadata": {},
   "outputs": [
    {
     "name": "stdout",
     "output_type": "stream",
     "text": [
      "{'name': 'Manoj Parasuram', 'email': 'manojparasuram.sadhanala@gmail.com', 'mobile_number': '9000830070', 'skills': ['Hardware', 'Communication', 'Networking', 'Reporting', 'Python', 'Electronics', 'Tensorflow', 'Analysis', 'Ios', 'Ai', 'Sql', 'Pytorch', 'Research', 'Audio', 'Outreach', 'Technical', 'Github', 'Engineering', 'International', 'Security', 'Mobile', '.net', 'Matlab', 'System'], 'college_name': None, 'degree': ['Electronics and Communication \\nEngineering'], 'designation': ['Hardware Security Researcher'], 'experience': ['Simulations AVR, ARM Controllers', 'January\\xa02024', 'A student-driven initiative dedicated to', 'enhancing community well-being through', 'enriching and enlightening experiences.', 'Awards', 'Global Nominee & Galactic Impact Award,', 'NASA Space Apps Challenge', 'October 2023', 'National Finalist, Kavach 2023', 'August 2023', 'Local Impact Award,', 'NASA Space Apps Challege', 'October 2022'], 'company_names': None, 'no_of_pages': 2, 'total_experience': 0.0}\n"
     ]
    }
   ],
   "source": [
    "print(data)"
   ]
  },
  {
   "cell_type": "code",
   "execution_count": null,
   "metadata": {},
   "outputs": [],
   "source": []
  }
 ],
 "metadata": {
  "kernelspec": {
   "display_name": "venv",
   "language": "python",
   "name": "python3"
  },
  "language_info": {
   "codemirror_mode": {
    "name": "ipython",
    "version": 3
   },
   "file_extension": ".py",
   "mimetype": "text/x-python",
   "name": "python",
   "nbconvert_exporter": "python",
   "pygments_lexer": "ipython3",
   "version": "3.8.0"
  }
 },
 "nbformat": 4,
 "nbformat_minor": 2
}
