{
 "cells": [
  {
   "cell_type": "code",
   "execution_count": 1,
   "metadata": {},
   "outputs": [
    {
     "name": "stdout",
     "output_type": "stream",
     "text": [
      "Requirement already satisfied: pdfplumber in /opt/homebrew/lib/python3.13/site-packages (0.11.5)\n",
      "Requirement already satisfied: pdfminer.six==20231228 in /opt/homebrew/lib/python3.13/site-packages (from pdfplumber) (20231228)\n",
      "Requirement already satisfied: Pillow>=9.1 in /opt/homebrew/lib/python3.13/site-packages (from pdfplumber) (11.1.0)\n",
      "Requirement already satisfied: pypdfium2>=4.18.0 in /opt/homebrew/lib/python3.13/site-packages (from pdfplumber) (4.30.1)\n",
      "Requirement already satisfied: charset-normalizer>=2.0.0 in /opt/homebrew/lib/python3.13/site-packages (from pdfminer.six==20231228->pdfplumber) (3.4.1)\n",
      "Requirement already satisfied: cryptography>=36.0.0 in /opt/homebrew/lib/python3.13/site-packages (from pdfminer.six==20231228->pdfplumber) (44.0.2)\n",
      "Requirement already satisfied: cffi>=1.12 in /opt/homebrew/lib/python3.13/site-packages (from cryptography>=36.0.0->pdfminer.six==20231228->pdfplumber) (1.17.1)\n",
      "Requirement already satisfied: pycparser in /opt/homebrew/lib/python3.13/site-packages (from cffi>=1.12->cryptography>=36.0.0->pdfminer.six==20231228->pdfplumber) (2.22)\n"
     ]
    }
   ],
   "source": [
    "!pip3 install pdfplumber"
   ]
  },
  {
   "cell_type": "code",
   "execution_count": null,
   "metadata": {},
   "outputs": [
    {
     "name": "stdout",
     "output_type": "stream",
     "text": [
      "{\n",
      "    \"Filename\": \"Manoj Resume.pdf\",\n",
      "    \"Name\": \"Manoj Parasuram\",\n",
      "    \"Email\": \"manojparasuram.sadhanala@gmail.com\",\n",
      "    \"Phone\": \"9000830070\",\n",
      "    \"Education\": \"Education\\nResearch Intern, Amrita Mind and Brain Center\\nElectronics and Communication\\nJune 2024 \\u2013 present\\nEngineering, Amrita Vishwa Vidyapeetham\\nWokring on Research based on the Human GAIT\\n2021 \\u2013 present | Kollam, India\\nCURRENT CGPA: 7.28/10\\nFreelancer\\nFebruary 2024 \\u2013 present\\nIntermediate,\\nDeveloped websites and Flutter apps for clients,\\nSri Chaitanya College Of Education\\nserving both business and community needs.\\n2019 \\u2013 2021 | Vijayawada, India\\nPercentage: 93.7%\\nMentor & Member, amFOSS\\nDecember 2021 \\u2013 May 2024\\nDR.K.K.R's Gowtham School\",\n",
      "    \"Work Experience\": \"valuable project experiences. Experienced in\"\n",
      "}\n"
     ]
    }
   ],
   "source": [
    "import os\n",
    "import re\n",
    "import json\n",
    "import pdfplumber\n",
    "import docx\n",
    "\n",
    "# ----------- Utility Functions -----------\n",
    "\n",
    "def extract_text_from_file(filepath):\n",
    "    if filepath.endswith('.pdf'):\n",
    "        with pdfplumber.open(filepath) as pdf:\n",
    "            return '\\n'.join(page.extract_text() for page in pdf.pages if page.extract_text())\n",
    "    elif filepath.endswith('.docx'):\n",
    "        doc = docx.Document(filepath)\n",
    "        return '\\n'.join([para.text for para in doc.paragraphs])\n",
    "    return \"\"\n",
    "\n",
    "def extract_email(text):\n",
    "    emails = re.findall(r\"[a-zA-Z0-9_.+-]+@[a-zA-Z0-9-]+\\.[a-zA-Z0-9-.]+\", text)\n",
    "    return emails[0] if emails else \"\"\n",
    "\n",
    "def extract_phone(text):\n",
    "    phones = re.findall(r\"\\+?\\d[\\d\\s().-]{7,}\\d\", text)\n",
    "    return phones[0] if phones else \"\"\n",
    "\n",
    "def extract_name(text):\n",
    "    lines = text.split('\\n')\n",
    "    for line in lines[:10]:\n",
    "        if len(line.split()) <= 4 and not any(char.isdigit() for char in line):\n",
    "            return line.strip()\n",
    "    return \"\"\n",
    "\n",
    "def extract_section(text, section_keywords):\n",
    "    lines = text.split('\\n')\n",
    "    capture = False\n",
    "    section = []\n",
    "    for line in lines:\n",
    "        if any(keyword.lower() in line.lower() for keyword in section_keywords):\n",
    "            capture = True\n",
    "        if capture:\n",
    "            if line.strip() == \"\" or any(kw.lower() in line.lower() for kw in ['skills', 'projects', 'summary', 'certifications']):\n",
    "                break\n",
    "            section.append(line)\n",
    "    return \"\\n\".join(section).strip()\n",
    "\n",
    "def parse_resume(filepath):\n",
    "    text = extract_text_from_file(filepath)\n",
    "    return {\n",
    "        \"Filename\": os.path.basename(filepath),\n",
    "        \"Name\": extract_name(text),\n",
    "        \"Email\": extract_email(text),\n",
    "        \"Phone\": extract_phone(text),\n",
    "        \"Education\": extract_section(text, ['Education']),\n",
    "        \"Work Experience\": extract_section(text, ['Experience', 'Work Experience', 'Professional Experience'])\n",
    "    }\n",
    "\n",
    "# ----------- Run on a Single Resume -----------\n",
    "\n",
    "# Replace this with your actual resume file path\n",
    "resume_path = \"../resume-parser-NLP/test-resume/Manoj Resume.pdf\"  # or .docx\n",
    "\n",
    "parsed_resume = parse_resume(resume_path)\n",
    "\n",
    "print(json.dumps(parsed_resume, indent=4))\n"
   ]
  },
  {
   "cell_type": "code",
   "execution_count": null,
   "metadata": {},
   "outputs": [],
   "source": []
  }
 ],
 "metadata": {
  "kernelspec": {
   "display_name": "Python 3",
   "language": "python",
   "name": "python3"
  },
  "language_info": {
   "codemirror_mode": {
    "name": "ipython",
    "version": 3
   },
   "file_extension": ".py",
   "mimetype": "text/x-python",
   "name": "python",
   "nbconvert_exporter": "python",
   "pygments_lexer": "ipython3",
   "version": "3.13.2"
  }
 },
 "nbformat": 4,
 "nbformat_minor": 2
}
